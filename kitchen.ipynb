{
 "cells": [
  {
   "cell_type": "markdown",
   "metadata": {},
   "source": [
    "Kitchen Buddy\n"
   ]
  },
  {
   "cell_type": "code",
   "execution_count": 1,
   "metadata": {},
   "outputs": [
    {
     "name": "stderr",
     "output_type": "stream",
     "text": [
      "c:\\Users\\Prakash Nani\\Desktop\\agents\\nani\\Lib\\site-packages\\pydantic\\_internal\\_generate_schema.py:775: UserWarning: Mixing V1 models and V2 models (or constructs, like `TypeAdapter`) is not supported. Please upgrade `CrewAgentExecutor` to V2.\n",
      "  warn(\n"
     ]
    }
   ],
   "source": [
    "from crewai import Task, Agent, Crew, Process\n",
    "from duckduckgo_search import duckduckgo_search as dc\n",
    "import crewai_tools\n",
    "from langchain_google_genai import ChatGoogleGenerativeAI\n",
    "import os\n",
    "import load_dotenv\n",
    "\n",
    "llm = ChatGoogleGenerativeAI(\n",
    "    model=\"gemini-1.5-flash\",\n",
    "    verbose=True,\n",
    "    temperature=0.5,\n",
    "    google_api_key=os.getenv(\"GOOGLE_API_KEY\")\n",
    ")"
   ]
  },
  {
   "cell_type": "code",
   "execution_count": 2,
   "metadata": {},
   "outputs": [],
   "source": [
    "from crewai_tools import SerperDevTool, WebsiteSearchTool\n",
    "os.environ['SERPER_API_KEY'] = os.getenv('SERPER_API_KEY')"
   ]
  },
  {
   "cell_type": "code",
   "execution_count": 3,
   "metadata": {},
   "outputs": [],
   "source": [
    "manager = Agent(\n",
    "        role=\"Kitchen Support Manager\",\n",
    "        goal=\"Identify issues and delegate to appropriate specialists.\",\n",
    "        backstory=\"Experienced kitchen maintenance coordinator with expertise in\"\n",
    "                  \"identifying problems and efficiently delegating tasks to specialists.\"\n",
    "                  \"Known for clear communication and effective problem-solving.\",\n",
    "        allow_delegation=True,\n",
    "        memory=True,\n",
    "        verbose=True,\n",
    "        llm=llm\n",
    "    )"
   ]
  },
  {
   "cell_type": "code",
   "execution_count": 4,
   "metadata": {},
   "outputs": [],
   "source": [
    "carpentry_specialist= Agent(\n",
    "    role=\"Cupboard Specialist\",\n",
    "            goal=\"Diagnose and resolve kitchen cupboard issues effectively.\",\n",
    "            backstory= \"Expert in all aspects of kitchen cupboard maintenance and repairs,\"\n",
    "                      \"including hinges, handles, shelving, and structural integrity.\"\n",
    "                      \"Specializes in providing practical, long-lasting solutions.\",\n",
    "            llm=llm,\n",
    "            memory=True,\n",
    "            verbose=True\n",
    ")\n",
    "            "
   ]
  },
  {
   "cell_type": "code",
   "execution_count": 5,
   "metadata": {},
   "outputs": [],
   "source": [
    "plumbing_specialist=Agent(\n",
    "            role=\"Water Tap Specialist\",\n",
    "            goal=\"Solve water-related issues and prevent future problems.\",\n",
    "            backstory=\"Highly experienced in diagnosing and fixing kitchen plumbing issues,\"\n",
    "                      \"including leaks, pressure problems, and tap maintenance. Prioritizes\"\n",
    "                      \"water conservation and efficient solutions.\",\n",
    "            llm=llm,\n",
    "            memory=True,\n",
    "            verbose=True\n",
    "        )"
   ]
  },
  {
   "cell_type": "code",
   "execution_count": 12,
   "metadata": {},
   "outputs": [],
   "source": [
    "electrical_specialist= Agent(\n",
    "            role=\"Electrical Appliance Specialist\",\n",
    "            goal=\"Ensure safe and effective operation of kitchen electrical systems.\",\n",
    "            backstory=\"Certified expert in kitchen electrical systems and appliances.\"\n",
    "                      \"Focuses on safety-first approaches while providing effective\"\n",
    "                      \"solutions for all electrical-related kitchen problems.\",\n",
    "            llm=llm,\n",
    "            memory=True,\n",
    "            verbose=True\n",
    "        )"
   ]
  },
  {
   "cell_type": "markdown",
   "metadata": {},
   "source": [
    "TASKS"
   ]
  },
  {
   "cell_type": "code",
   "execution_count": 7,
   "metadata": {},
   "outputs": [],
   "source": [
    "kitchen_issue_task = Task(\n",
    "    description=(\n",
    "        \"A kitchen issue has been reported: '{topic}'. \"\n",
    "        \"As the Kitchen Support Manager, assess the problem and delegate it to the appropriate specialist.\"\n",
    "    ),\n",
    "    agent=manager,\n",
    "    expected_output=(\n",
    "        \"The manager should provide a brief assessment of the issue and specify which specialist \"\n",
    "        \"(agent) has been assigned to address it.\"\n",
    "    )\n",
    ")\n"
   ]
  },
  {
   "cell_type": "markdown",
   "metadata": {},
   "source": [
    "CREW"
   ]
  },
  {
   "cell_type": "code",
   "execution_count": 14,
   "metadata": {},
   "outputs": [
    {
     "name": "stderr",
     "output_type": "stream",
     "text": [
      "2025-02-08 18:20:24,538 - 30284 - __init__.py-__init__:518 - WARNING: Overriding of current TracerProvider is not allowed\n"
     ]
    }
   ],
   "source": [
    "crew = Crew(\n",
    "    agents=[carpentry_specialist, plumbing_specialist, electrical_specialist],\n",
    "    tasks=[kitchen_issue_task],\n",
    "    process=Process.hierarchical,\n",
    "    manager_agent=manager,\n",
    "    verbose=True\n",
    ")"
   ]
  },
  {
   "cell_type": "markdown",
   "metadata": {},
   "source": [
    "RESULT"
   ]
  },
  {
   "cell_type": "code",
   "execution_count": 15,
   "metadata": {},
   "outputs": [
    {
     "name": "stdout",
     "output_type": "stream",
     "text": [
      "\u001b[1m\u001b[92m [DEBUG]: Working Agent: Kitchen Support Manager\u001b[00m\n",
      "\u001b[1m\u001b[92m [INFO]: Starting Task: A kitchen issue has been reported: 'my kitchen tap is leaking'. As the Kitchen Support Manager, assess the problem and delegate it to the appropriate specialist.\u001b[00m\n",
      "\n",
      "\n",
      "\u001b[1m> Entering new CrewAgentExecutor chain...\u001b[0m\n",
      "\u001b[32;1m\u001b[1;3mThought: The reported issue is a leaking kitchen tap. This requires the expertise of the Water Tap Specialist.  I need to delegate the task of fixing the leak to them, providing all necessary details.\n",
      "\n",
      "Action: Delegate work to co-worker\n",
      "\n",
      "Action Input: {\n",
      "  \"coworker\": \"Water Tap Specialist\",\n",
      "  \"task\": \"Repair a leaking kitchen tap\",\n",
      "  \"context\": \"A report has been received indicating a leaking kitchen tap.  The location of the tap is the kitchen. Please investigate the source of the leak. This may involve checking the tap itself for any visible damage, loose connections, or worn-out parts.  It might also involve checking the water supply lines connected to the tap for leaks or damage.  Please bring appropriate tools to repair the tap, such as wrenches, sealant, and replacement parts if necessary. After the repair, please test the tap thoroughly to ensure the leak is completely fixed and report back to me once the task is complete.  Safety is paramount, turn off the water supply to the tap before beginning any repair work.\"\n",
      "}\n",
      "\u001b[0m\n",
      "\n",
      "\u001b[1m> Entering new CrewAgentExecutor chain...\u001b[0m\n",
      "\u001b[32;1m\u001b[1;3mThought: I now can give a great answer\n",
      "\n",
      "Final Answer:\n",
      "\n",
      "Okay, thanks for the report.  A leaking kitchen tap is a common issue, but we need to address it efficiently and prevent further water waste.  Before I head to the kitchen, I'll gather my tools:\n",
      "\n",
      "* **Tools:** Adjustable wrenches (various sizes), basin wrench (for hard-to-reach nuts), plumber's PTFE tape, silicone sealant, a selection of O-rings and washers (common sizes for kitchen taps), screwdrivers (Phillips and flathead), possibly a small pipe wrench depending on the tap's design, and a bucket to catch any residual water. I'll also grab a pair of safety glasses.  I'll check the stockroom for replacement cartridges if needed, depending on the tap's make and model.\n",
      "\n",
      "**Procedure:**\n",
      "\n",
      "1. **Safety First:**  The most crucial step is to turn off the water supply to the tap.  This is usually done by turning the isolation valves under the sink – one for hot and one for cold.  I’ll double-check that the water is off by turning on the tap briefly.\n",
      "\n",
      "2. **Visual Inspection:** With the water off, I'll carefully inspect the tap for any obvious signs of leakage. This includes checking:\n",
      "    * **The tap body:**  Are there any cracks or visible damage?\n",
      "    * **The spout:** Is there leakage from the spout itself?\n",
      "    * **The handles:** Are the handles loose or damaged?\n",
      "    * **The connections:** Are there any leaks around the water supply lines where they connect to the tap?\n",
      "\n",
      "3. **Leak Source Identification:** Based on the visual inspection, I’ll pinpoint the source of the leak. Common culprits are:\n",
      "    * **Worn-out O-rings or washers:** These are small rubber seals that prevent water from leaking around the tap's moving parts.  Replacement is usually straightforward.\n",
      "    * **Loose connections:**  The nuts connecting the tap to the water supply lines might be loose, leading to leaks.  Tightening these with the appropriate wrench is often sufficient.\n",
      "    * **Damaged cartridge:**  The cartridge is the internal mechanism that controls water flow. If it's damaged, it needs replacement. This will require identifying the tap's make and model to order the correct replacement.\n",
      "    * **Cracked tap body or spout:**  This is a more serious issue and may require tap replacement.\n",
      "\n",
      "4. **Repair:**  Once I've identified the problem, I'll proceed with the repair. This might involve:\n",
      "    * **Replacing O-rings or washers:** I'll carefully disassemble the affected part of the tap, replace the worn-out seals with new ones, and reassemble the tap, ensuring all parts are properly seated and tightened.  I'll use PTFE tape on any threaded connections to ensure a watertight seal.\n",
      "    * **Tightening connections:** I'll carefully tighten any loose connections using the appropriate wrench, being careful not to over-tighten and damage the tap or pipes.\n",
      "    * **Replacing the cartridge:** If the cartridge is faulty, I'll replace it with a compatible one, following the manufacturer's instructions.\n",
      "    * **Repairing or replacing the tap body/spout:** If the tap body or spout is cracked, repair might not be feasible, and replacement will likely be necessary.\n",
      "\n",
      "5. **Testing:** After the repair, I'll turn the water supply back on and thoroughly test the tap, checking for any remaining leaks. I'll run both hot and cold water for several minutes.\n",
      "\n",
      "6. **Reporting:** Once I'm satisfied that the leak is completely fixed and the repair is sound, I’ll report back to you, providing details of the repair work carried out, parts replaced (if any), and the total time taken.  I'll also mention any preventative measures that could be taken to avoid similar issues in the future, such as regular tap maintenance or checking for any signs of corrosion.\n",
      "\n",
      "\n",
      "My priority is to fix the leak efficiently, conserve water, and prevent future problems.  I will follow all safety procedures and ensure the repair is completed to a high standard.\n",
      "\u001b[0m\n",
      "\n",
      "\u001b[1m> Finished chain.\u001b[0m\n",
      "\u001b[95m \n",
      "\n",
      "Okay, thanks for the report.  A leaking kitchen tap is a common issue, but we need to address it efficiently and prevent further water waste.  Before I head to the kitchen, I'll gather my tools:\n",
      "\n",
      "* **Tools:** Adjustable wrenches (various sizes), basin wrench (for hard-to-reach nuts), plumber's PTFE tape, silicone sealant, a selection of O-rings and washers (common sizes for kitchen taps), screwdrivers (Phillips and flathead), possibly a small pipe wrench depending on the tap's design, and a bucket to catch any residual water. I'll also grab a pair of safety glasses.  I'll check the stockroom for replacement cartridges if needed, depending on the tap's make and model.\n",
      "\n",
      "**Procedure:**\n",
      "\n",
      "1. **Safety First:**  The most crucial step is to turn off the water supply to the tap.  This is usually done by turning the isolation valves under the sink – one for hot and one for cold.  I’ll double-check that the water is off by turning on the tap briefly.\n",
      "\n",
      "2. **Visual Inspection:** With the water off, I'll carefully inspect the tap for any obvious signs of leakage. This includes checking:\n",
      "    * **The tap body:**  Are there any cracks or visible damage?\n",
      "    * **The spout:** Is there leakage from the spout itself?\n",
      "    * **The handles:** Are the handles loose or damaged?\n",
      "    * **The connections:** Are there any leaks around the water supply lines where they connect to the tap?\n",
      "\n",
      "3. **Leak Source Identification:** Based on the visual inspection, I’ll pinpoint the source of the leak. Common culprits are:\n",
      "    * **Worn-out O-rings or washers:** These are small rubber seals that prevent water from leaking around the tap's moving parts.  Replacement is usually straightforward.\n",
      "    * **Loose connections:**  The nuts connecting the tap to the water supply lines might be loose, leading to leaks.  Tightening these with the appropriate wrench is often sufficient.\n",
      "    * **Damaged cartridge:**  The cartridge is the internal mechanism that controls water flow. If it's damaged, it needs replacement. This will require identifying the tap's make and model to order the correct replacement.\n",
      "    * **Cracked tap body or spout:**  This is a more serious issue and may require tap replacement.\n",
      "\n",
      "4. **Repair:**  Once I've identified the problem, I'll proceed with the repair. This might involve:\n",
      "    * **Replacing O-rings or washers:** I'll carefully disassemble the affected part of the tap, replace the worn-out seals with new ones, and reassemble the tap, ensuring all parts are properly seated and tightened.  I'll use PTFE tape on any threaded connections to ensure a watertight seal.\n",
      "    * **Tightening connections:** I'll carefully tighten any loose connections using the appropriate wrench, being careful not to over-tighten and damage the tap or pipes.\n",
      "    * **Replacing the cartridge:** If the cartridge is faulty, I'll replace it with a compatible one, following the manufacturer's instructions.\n",
      "    * **Repairing or replacing the tap body/spout:** If the tap body or spout is cracked, repair might not be feasible, and replacement will likely be necessary.\n",
      "\n",
      "5. **Testing:** After the repair, I'll turn the water supply back on and thoroughly test the tap, checking for any remaining leaks. I'll run both hot and cold water for several minutes.\n",
      "\n",
      "6. **Reporting:** Once I'm satisfied that the leak is completely fixed and the repair is sound, I’ll report back to you, providing details of the repair work carried out, parts replaced (if any), and the total time taken.  I'll also mention any preventative measures that could be taken to avoid similar issues in the future, such as regular tap maintenance or checking for any signs of corrosion.\n",
      "\n",
      "\n",
      "My priority is to fix the leak efficiently, conserve water, and prevent future problems.  I will follow all safety procedures and ensure the repair is completed to a high standard.\n",
      "\u001b[00m\n",
      "\u001b[32;1m\u001b[1;3mThought: I now know the final answer\n",
      "\n",
      "Final Answer: The leaking kitchen tap issue has been delegated to the Water Tap Specialist.  The specialist has been provided with comprehensive instructions, including safety procedures, troubleshooting steps, and repair protocols.  They will investigate the leak's source, perform the necessary repairs, and report back upon completion.\n",
      "\u001b[0m\n",
      "\n",
      "\u001b[1m> Finished chain.\u001b[0m\n",
      "\u001b[1m\u001b[92m [DEBUG]: [Kitchen Support Manager] Task output: The leaking kitchen tap issue has been delegated to the Water Tap Specialist.  The specialist has been provided with comprehensive instructions, including safety procedures, troubleshooting steps, and repair protocols.  They will investigate the leak's source, perform the necessary repairs, and report back upon completion.\u001b[00m\n",
      "The leaking kitchen tap issue has been delegated to the Water Tap Specialist.  The specialist has been provided with comprehensive instructions, including safety procedures, troubleshooting steps, and repair protocols.  They will investigate the leak's source, perform the necessary repairs, and report back upon completion.\n"
     ]
    }
   ],
   "source": [
    "result=crew.kickoff(inputs={'topic':\"my kitchen tap is leaking\"})\n",
    "print(result)"
   ]
  },
  {
   "cell_type": "code",
   "execution_count": null,
   "metadata": {},
   "outputs": [],
   "source": []
  }
 ],
 "metadata": {
  "kernelspec": {
   "display_name": "nani",
   "language": "python",
   "name": "python3"
  },
  "language_info": {
   "codemirror_mode": {
    "name": "ipython",
    "version": 3
   },
   "file_extension": ".py",
   "mimetype": "text/x-python",
   "name": "python",
   "nbconvert_exporter": "python",
   "pygments_lexer": "ipython3",
   "version": "3.12.4"
  }
 },
 "nbformat": 4,
 "nbformat_minor": 2
}
